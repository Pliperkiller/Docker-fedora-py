{
 "cells": [
  {
   "cell_type": "code",
   "execution_count": 46,
   "metadata": {},
   "outputs": [],
   "source": [
    "class Queue:\n",
    "    def __init__(self):\n",
    "        self.values = []\n",
    "\n",
    "    def setQueue(self,index):\n",
    "        self.values.append(index)\n",
    "        if len(self.values)>3:\n",
    "            del self.values[0]\n",
    "\n",
    "    def resetQueue(self):\n",
    "        self.values = []\n",
    "\n",
    "class Player:\n",
    "\n",
    "    def __init__(self, name):\n",
    "        self.name = name\n",
    "        self.winStatus = False\n",
    "        self.locs = [0]*9\n",
    "        self.queue  = Queue()\n",
    "\n",
    "    def setLoc(self,index):\n",
    "        self.locs = [0]*9\n",
    "        self.queue.setQueue(index)\n",
    "        for value in self.queue.values:\n",
    "            self.locs[value] = 1\n",
    "\n",
    "    def resetLoc(self):\n",
    "        self.locs = [0]*9\n",
    "        self.queue.resetQueue()\n",
    "\n",
    "    def setWin(self):\n",
    "        self.winStatus = True\n",
    "    \n",
    "    def resetWinStatus(self):\n",
    "        self.winStatus = False\n",
    "\n",
    "\n",
    "class WinChecker:\n",
    "    def __init__(self):\n",
    "        self.winConditions = [[1,1,1,0,0,0,0,0,0],\n",
    "                            [0,0,0,1,1,1,0,0,0],\n",
    "                            [0,0,0,0,0,0,1,1,1],\n",
    "                            [1,0,0,1,0,0,1,0,0],\n",
    "                            [0,1,0,0,1,0,0,1,0],\n",
    "                            [0,0,1,0,0,1,0,0,1],\n",
    "                            [1,0,0,0,1,0,0,0,1],\n",
    "                            [0,0,1,0,1,0,1,0,0]]\n",
    "\n",
    "    def checkWin(self,player):\n",
    "        for row in self.winConditions:\n",
    "            if sum(1 for x, y in zip(player.locs, row) if x == y and y==1) ==3:\n",
    "                player.winStatus = True\n",
    "                return True\n",
    "        return False\n",
    "\n",
    "\n",
    "\n",
    "class Board:\n",
    "    def __init__(self):\n",
    "        self.cells = [0]*9\n",
    "    \n",
    "    def update(self, player1, player2):\n",
    "        self.cells = [0]*9\n",
    "        for i in range(len(self.cells)):\n",
    "            if player1.locs[i] !=0:\n",
    "                self.cells[i] = 1\n",
    "            if player2.locs[i] !=0:\n",
    "                self.cells[i] = 2\n",
    "    \n",
    "    def printBoard(self):\n",
    "        for i in range(0, len(self.cells), 3):\n",
    "            print(self.cells[i:i+3])\n",
    "\n",
    "    def fullBoardCheck(self):\n",
    "        if len([cell for cell in self.cells if cell !=0]) == 9: return True\n",
    "        return False\n",
    "\n",
    "\n",
    "class GameController:\n",
    "\n",
    "    def __init__(self, name1 = 'Player1', name2 = 'Player2'):\n",
    "        self.player1 = Player(name1)\n",
    "        self.player2 = Player(name2)\n",
    "        self.board = Board()\n",
    "        self.winChecker = WinChecker()\n",
    "        self.gameStatus = True\n",
    "        self.p1Turn = False\n",
    "        self.p2Turn = False\n",
    "\n",
    "    def updateBoard(self):\n",
    "        self.board.update(self.player1,self.player2)\n",
    "\n",
    "    def set_player_value(self, player, index):\n",
    "        opponent = self.player2 if player == self.player1 else self.player1\n",
    "        if opponent.locs[index] == 1 or player.locs[index] == 1:\n",
    "            print(f\"Unable to set this position as it is already selected.\")\n",
    "            return False\n",
    "        player.setLoc(index)\n",
    "        self.board.update(self.player1, self.player2)\n",
    "        return True\n",
    "\n",
    "    def checkWin(self,player):\n",
    "        return self.winChecker.checkWin(player)\n",
    "          \n",
    "    \n",
    "    def resetGame(self):\n",
    "        self.board = Board()\n",
    "        self.gameStatus = True\n",
    "        self.player1.winStatus = False\n",
    "        self.player2.winStatus = False\n",
    "        self.player1.resetLoc()\n",
    "        self.player2.resetLoc()\n",
    "\n",
    "\n",
    "class GameManager:\n",
    "    def __init__(self, gameController):\n",
    "        self.player1Score = 0\n",
    "        self.player2Score = 0\n",
    "        self.gameNumber = 0\n",
    "        self.gameController = gameController\n",
    "        self.inGame = True"
   ]
  },
  {
   "cell_type": "code",
   "execution_count": 47,
   "metadata": {},
   "outputs": [],
   "source": [
    "controller = GameController()"
   ]
  },
  {
   "cell_type": "code",
   "execution_count": 61,
   "metadata": {},
   "outputs": [
    {
     "name": "stdout",
     "output_type": "stream",
     "text": [
      "[1, 0, 0, 0, 1, 0, 0, 1, 0]\n",
      "[4, 7, 0]\n",
      "[1, 0, 2]\n",
      "[2, 1, 2]\n",
      "[0, 1, 0]\n",
      "None\n"
     ]
    }
   ],
   "source": [
    "controller.set_player_value(controller.player1,0)\n",
    "print(controller.player1.locs)\n",
    "print(controller.player1.queue.values)\n",
    "\n",
    "print(controller.board.printBoard())"
   ]
  },
  {
   "cell_type": "code",
   "execution_count": 62,
   "metadata": {},
   "outputs": [
    {
     "name": "stdout",
     "output_type": "stream",
     "text": [
      "[1, 0, 2]\n",
      "[2, 1, 2]\n",
      "[0, 1, 0]\n",
      "None\n"
     ]
    }
   ],
   "source": [
    "print(controller.board.printBoard())"
   ]
  },
  {
   "cell_type": "code",
   "execution_count": null,
   "metadata": {},
   "outputs": [],
   "source": []
  }
 ],
 "metadata": {
  "kernelspec": {
   "display_name": "Python 3",
   "language": "python",
   "name": "python3"
  },
  "language_info": {
   "codemirror_mode": {
    "name": "ipython",
    "version": 3
   },
   "file_extension": ".py",
   "mimetype": "text/x-python",
   "name": "python",
   "nbconvert_exporter": "python",
   "pygments_lexer": "ipython3",
   "version": "3.13.1"
  }
 },
 "nbformat": 4,
 "nbformat_minor": 2
}
