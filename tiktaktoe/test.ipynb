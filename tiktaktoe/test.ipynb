{
 "cells": [
  {
   "cell_type": "code",
   "execution_count": 175,
   "metadata": {},
   "outputs": [],
   "source": [
    "\n",
    "\n",
    "\n",
    "class player:\n",
    "\n",
    "    def __init__(self, name):\n",
    "        self.name = name\n",
    "        self.winStatus = False\n",
    "        self.locs = [0]*9\n",
    "\n",
    "    def setLoc(self,index):\n",
    "        self.locs[index] = 1\n",
    "\n",
    "    def resetLoc(self):\n",
    "        self.locs = [0]*9\n",
    "\n",
    "    def setWin(self):\n",
    "        self.winStatus = True\n",
    "    \n",
    "    def resetWinStatus(self):\n",
    "        self.winStatus = False\n",
    "\n",
    "\n",
    "\n",
    "class GameController:\n",
    "\n",
    "    def __init__(self, name1 = 'Player1', name2 = 'Player2'):\n",
    "        self.player1 = player(name1)\n",
    "        self.player2 = player(name2)\n",
    "        self.board = [0]*9\n",
    "        self.winConditions = [[1,1,1,0,0,0,0,0,0],\n",
    "                            [0,0,0,1,1,1,0,0,0],\n",
    "                            [0,0,0,0,0,0,1,1,1],\n",
    "                            [1,0,0,1,0,0,1,0,0],\n",
    "                            [0,1,0,0,1,0,0,1,0],\n",
    "                            [0,0,1,0,0,1,0,0,1],\n",
    "                            [1,0,0,0,1,0,0,0,1],\n",
    "                            [0,0,1,0,1,0,1,0,0]]\n",
    "        self.gameStatus = False\n",
    "        self.p1Turn = False\n",
    "        self.p2Turn = False\n",
    "\n",
    "    def printBoard(self):\n",
    "        for i in range(0, len(self.board), 3):\n",
    "            print(self.board[i:i+3])\n",
    "    \n",
    "    def updateBoard(self):\n",
    "        for i in range(len(self.board)):\n",
    "            if self.player1.locs[i] !=0:\n",
    "                self.board[i] = 1\n",
    "            elif self.player2.locs[i] !=0:\n",
    "                self.board[i] = 2\n",
    "\n",
    "    def setPlayer1Values(self,index):\n",
    "        if self.player2.locs[index] == 1:\n",
    "            print(\"Unable to set this position since player2 is already using it\")\n",
    "            return False\n",
    "        \n",
    "        if self.player1.locs[index] == 1:\n",
    "            print(\"Unable to set this position since player1 is already using it\")\n",
    "            return False\n",
    "        else:\n",
    "            self.player1.setLoc(index)\n",
    "            return True\n",
    "        \n",
    "    def setPlayer2Values(self,index):\n",
    "        if self.player1.locs[index] == 1:\n",
    "            print(\"Unable to set this position since player1 is already using it\")\n",
    "            return False\n",
    "        \n",
    "        if self.player2.locs[index] == 1:\n",
    "            print(\"Unable to set this position since player2 is already using it\")\n",
    "            return False\n",
    "        \n",
    "        else:\n",
    "            self.player2.setLoc(index)\n",
    "            return True\n",
    "\n",
    "    def checkPlayer1Win(self):\n",
    "        for row in self.winConditions:\n",
    "            if sum(1 for x, y in zip(self.player1.locs, row) if x == y) ==3:\n",
    "                self.player1.winStatus = True\n",
    "                return True\n",
    "        return False\n",
    "            \n",
    "    def checkPlayer2Win(self):\n",
    "        for row in self.winConditions:\n",
    "            if sum(1 for x, y in zip(self.player2.locs, row) if x == y) ==3:\n",
    "                self.player2.winStatus = True\n",
    "                return True\n",
    "        return False\n",
    "        \n",
    "    def checkGameStatus(self):\n",
    "        if self.player1 or self.player2:\n",
    "            self.gameStatus = True\n",
    "\n",
    "        return self.gameStatus\n",
    "    \n",
    "    def resetGame(self):\n",
    "        self.board = [0]*9\n",
    "        self.gameStatus = False\n",
    "        self.player1.resetLoc()\n",
    "        self.player2.resetLoc()\n",
    "\n",
    "\n",
    "class GameManager:\n",
    "    def __init__(self, gameController):\n",
    "        self.player1Score = 0\n",
    "        self.player2Score = 0\n",
    "        self.gameNumber = 0\n",
    "        self.gameController = gameController\n",
    "        self.inGame = True"
   ]
  },
  {
   "cell_type": "code",
   "execution_count": 177,
   "metadata": {},
   "outputs": [
    {
     "name": "stdout",
     "output_type": "stream",
     "text": [
      "Game start!\n",
      "\n",
      " Total games: 0\n",
      " Felipe wins: 0\n",
      " Vanesa wins: 0\n",
      "\n",
      "----------------------\n",
      "\n",
      "[0, 0, 0]\n",
      "[0, 0, 0]\n",
      "[0, 0, 0]\n"
     ]
    }
   ],
   "source": [
    "name1 = \"Felipe\"\n",
    "name2 = \"Vanesa\"\n",
    "gameManager = GameManager(GameController(name1,name2))\n",
    "controller = gameManager.gameController \n",
    "print(f'Game start!\\n\\n Total games: {gameManager.gameNumber}\\n {name1} wins: {gameManager.player1Score}\\n {name2} wins: {gameManager.player2Score}\\n')\n",
    "print(\"----------------------\\n\")\n",
    "controller.printBoard()"
   ]
  },
  {
   "cell_type": "code",
   "execution_count": 178,
   "metadata": {},
   "outputs": [
    {
     "data": {
      "text/plain": [
       "False"
      ]
     },
     "execution_count": 178,
     "metadata": {},
     "output_type": "execute_result"
    }
   ],
   "source": [
    "controller.gameStatus"
   ]
  },
  {
   "cell_type": "code",
   "execution_count": 173,
   "metadata": {},
   "outputs": [
    {
     "name": "stdout",
     "output_type": "stream",
     "text": [
      "Unable to set this position since player2 is already using it\n",
      "Player1\n",
      "[1, 1, 1, 0, 0, 0, 0, 0, 0]\n",
      "-----\n",
      "Player2\n",
      "[0, 0, 0, 1, 1, 1, 0, 0, 0]\n",
      "-----\n",
      "-----\n",
      "[1, 1, 1]\n",
      "[2, 2, 2]\n",
      "[0, 0, 0]\n"
     ]
    }
   ],
   "source": [
    "game.setPlayer2Values(3)\n",
    "print(game.player1.name)\n",
    "print(game.player1.locs)\n",
    "print('-----')\n",
    "print(game.player2.name)\n",
    "print(game.player2.locs)\n",
    "print('-----')\n",
    "print('-----')\n",
    "game.updateBoard()\n",
    "game.printBoard()"
   ]
  },
  {
   "cell_type": "code",
   "execution_count": 174,
   "metadata": {},
   "outputs": [
    {
     "name": "stdout",
     "output_type": "stream",
     "text": [
      "Player1\n",
      "[0, 0, 0, 0, 0, 0, 0, 0, 0]\n",
      "-----\n",
      "Player2\n",
      "[0, 0, 0, 0, 0, 0, 0, 0, 0]\n",
      "-----\n",
      "-----\n",
      "[0, 0, 0]\n",
      "[0, 0, 0]\n",
      "[0, 0, 0]\n"
     ]
    }
   ],
   "source": [
    "game.resetGame()\n",
    "print(game.player1.name)\n",
    "print(game.player1.locs)\n",
    "print('-----')\n",
    "print(game.player2.name)\n",
    "print(game.player2.locs)\n",
    "print('-----')\n",
    "print('-----')\n",
    "game.updateBoard()\n",
    "game.printBoard()"
   ]
  }
 ],
 "metadata": {
  "kernelspec": {
   "display_name": "Python 3",
   "language": "python",
   "name": "python3"
  },
  "language_info": {
   "codemirror_mode": {
    "name": "ipython",
    "version": 3
   },
   "file_extension": ".py",
   "mimetype": "text/x-python",
   "name": "python",
   "nbconvert_exporter": "python",
   "pygments_lexer": "ipython3",
   "version": "3.13.1"
  }
 },
 "nbformat": 4,
 "nbformat_minor": 2
}
