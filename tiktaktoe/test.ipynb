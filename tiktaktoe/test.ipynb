{
 "cells": [
  {
   "cell_type": "code",
   "execution_count": 11,
   "metadata": {},
   "outputs": [],
   "source": [
    "\n",
    "class player:\n",
    "\n",
    "    def __init__(self, name):\n",
    "        self.name = name\n",
    "        self.winStatus = False\n",
    "        self.locs = [0]*9\n",
    "\n",
    "    def setLoc(self,index):\n",
    "        self.locs[index] = 1\n",
    "\n",
    "    def resetLoc(self):\n",
    "        self.locs = [0]*9\n",
    "\n",
    "    def setWin(self):\n",
    "        self.winStatus = True\n",
    "    \n",
    "    def resetWinStatus(self):\n",
    "        self.winStatus = False\n",
    "\n",
    "\n",
    "class WinChecker:\n",
    "    def __init__(self):\n",
    "        self.winConditions = [[1,1,1,0,0,0,0,0,0],\n",
    "                            [0,0,0,1,1,1,0,0,0],\n",
    "                            [0,0,0,0,0,0,1,1,1],\n",
    "                            [1,0,0,1,0,0,1,0,0],\n",
    "                            [0,1,0,0,1,0,0,1,0],\n",
    "                            [0,0,1,0,0,1,0,0,1],\n",
    "                            [1,0,0,0,1,0,0,0,1],\n",
    "                            [0,0,1,0,1,0,1,0,0]]\n",
    "\n",
    "    def checkWin(self,player):\n",
    "        for row in self.winConditions:\n",
    "            if sum(1 for x, y in zip(player.locs, row) if x == y) ==3:\n",
    "                player.winStatus = True\n",
    "                return True\n",
    "        return False\n",
    "\n",
    "\n",
    "class Board:\n",
    "    def __init__(self):\n",
    "        self.cells = [0]*9\n",
    "    \n",
    "    def update(self, player1, player2):\n",
    "        for i in range(len(self.cells)):\n",
    "            if player1.locs[i] !=0:\n",
    "                self.cells[i] = 1\n",
    "            if player2.locs[i] !=0:\n",
    "                self.cells[i] = 2\n",
    "    \n",
    "    def printBoard(self):\n",
    "        for i in range(0, len(self.cells), 3):\n",
    "            print(self.cells[i:i+3])\n",
    "\n",
    "\n",
    "class GameController:\n",
    "\n",
    "    def __init__(self, name1 = 'Player1', name2 = 'Player2'):\n",
    "        self.player1 = player(name1)\n",
    "        self.player2 = player(name2)\n",
    "        self.board = Board()\n",
    "        self.winChecker = WinChecker()\n",
    "        self.gameStatus = True\n",
    "        self.p1Turn = False\n",
    "        self.p2Turn = False\n",
    "\n",
    "    def updateBoard(self):\n",
    "        self.board.update(self.player1,self.player2)\n",
    "\n",
    "    def set_player_value(self, player, index):\n",
    "        opponent = self.player2 if player == self.player1 else self.player1\n",
    "        if opponent.locs[index] == 1 or player.locs[index] == 1:\n",
    "            print(f\"Unable to set this position as it is already selected by {self.opponent.name}.\")\n",
    "            return False\n",
    "        player.setLoc(index)\n",
    "        self.board.update(self.player1, self.player2)\n",
    "        return True\n",
    "\n",
    "    def checkWin(self,player):\n",
    "        return self.winChecker.checkWin(player)\n",
    "          \n",
    "    \n",
    "    def resetGame(self):\n",
    "        self.board = [0]*9\n",
    "        self.gameStatus = True\n",
    "        self.player1.winStatus = False\n",
    "        self.player2.winStatus = False\n",
    "        self.player1.resetLoc()\n",
    "        self.player2.resetLoc()\n",
    "\n",
    "\n",
    "class GameManager:\n",
    "    def __init__(self, gameController):\n",
    "        self.player1Score = 0\n",
    "        self.player2Score = 0\n",
    "        self.gameNumber = 0\n",
    "        self.gameController = gameController\n",
    "        self.inGame = True"
   ]
  },
  {
   "cell_type": "code",
   "execution_count": 16,
   "metadata": {},
   "outputs": [],
   "source": [
    "class Board:\n",
    "    def __init__(self):\n",
    "        self.cells = [0]*9\n",
    "    \n",
    "    def update(self, player1, player2):\n",
    "        for i in range(len(self.cells)):\n",
    "            if player1.locs[i] !=0:\n",
    "                self.cells[i] = 1\n",
    "            if player2.locs[i] !=0:\n",
    "                self.cells[i] = 2\n",
    "    \n",
    "    def printBoard(self):\n",
    "        for i in range(0, len(self.cells), 3):\n",
    "            print(self.cells[i:i+3])\n",
    "\n",
    "    def fullBoard(self):\n",
    "        if len([cell for cell in self.cells if cell !=0]) == 9: return True\n",
    "        return False"
   ]
  },
  {
   "cell_type": "code",
   "execution_count": 178,
   "metadata": {},
   "outputs": [
    {
     "data": {
      "text/plain": [
       "False"
      ]
     },
     "execution_count": 178,
     "metadata": {},
     "output_type": "execute_result"
    }
   ],
   "source": [
    "board = Board()"
   ]
  },
  {
   "cell_type": "code",
   "execution_count": 173,
   "metadata": {},
   "outputs": [
    {
     "name": "stdout",
     "output_type": "stream",
     "text": [
      "Unable to set this position since player2 is already using it\n",
      "Player1\n",
      "[1, 1, 1, 0, 0, 0, 0, 0, 0]\n",
      "-----\n",
      "Player2\n",
      "[0, 0, 0, 1, 1, 1, 0, 0, 0]\n",
      "-----\n",
      "-----\n",
      "[1, 1, 1]\n",
      "[2, 2, 2]\n",
      "[0, 0, 0]\n"
     ]
    }
   ],
   "source": [
    "game.setPlayer2Values(3)\n",
    "print(game.player1.name)\n",
    "print(game.player1.locs)\n",
    "print('-----')\n",
    "print(game.player2.name)\n",
    "print(game.player2.locs)\n",
    "print('-----')\n",
    "print('-----')\n",
    "game.updateBoard()\n",
    "game.printBoard()"
   ]
  },
  {
   "cell_type": "code",
   "execution_count": 174,
   "metadata": {},
   "outputs": [
    {
     "name": "stdout",
     "output_type": "stream",
     "text": [
      "Player1\n",
      "[0, 0, 0, 0, 0, 0, 0, 0, 0]\n",
      "-----\n",
      "Player2\n",
      "[0, 0, 0, 0, 0, 0, 0, 0, 0]\n",
      "-----\n",
      "-----\n",
      "[0, 0, 0]\n",
      "[0, 0, 0]\n",
      "[0, 0, 0]\n"
     ]
    }
   ],
   "source": [
    "game.resetGame()\n",
    "print(game.player1.name)\n",
    "print(game.player1.locs)\n",
    "print('-----')\n",
    "print(game.player2.name)\n",
    "print(game.player2.locs)\n",
    "print('-----')\n",
    "print('-----')\n",
    "game.updateBoard()\n",
    "game.printBoard()"
   ]
  }
 ],
 "metadata": {
  "kernelspec": {
   "display_name": "Python 3",
   "language": "python",
   "name": "python3"
  },
  "language_info": {
   "codemirror_mode": {
    "name": "ipython",
    "version": 3
   },
   "file_extension": ".py",
   "mimetype": "text/x-python",
   "name": "python",
   "nbconvert_exporter": "python",
   "pygments_lexer": "ipython3",
   "version": "3.13.1"
  }
 },
 "nbformat": 4,
 "nbformat_minor": 2
}
